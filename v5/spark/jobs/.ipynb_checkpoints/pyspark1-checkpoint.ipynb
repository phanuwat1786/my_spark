{
 "cells": [
  {
   "cell_type": "code",
   "execution_count": null,
   "id": "4f97a18b-a791-4722-8449-297a7561928d",
   "metadata": {},
   "outputs": [],
   "source": [
    "!"
   ]
  },
  {
   "cell_type": "code",
   "execution_count": 1,
   "id": "777adedb",
   "metadata": {},
   "outputs": [
    {
     "name": "stderr",
     "output_type": "stream",
     "text": [
      "Setting default log level to \"WARN\".\n",
      "To adjust logging level use sc.setLogLevel(newLevel). For SparkR, use setLogLevel(newLevel).\n",
      "25/04/25 04:48:51 WARN NativeCodeLoader: Unable to load native-hadoop library for your platform... using builtin-java classes where applicable\n"
     ]
    },
    {
     "name": "stdout",
     "output_type": "stream",
     "text": [
      "Spark version: 3.5.5\n"
     ]
    }
   ],
   "source": [
    "from pyspark.sql import SparkSession\n",
    "spark = (\n",
    "    SparkSession.builder.master(\"spark://spark-master:7077\").appName(\"hdfs\").getOrCreate()\n",
    ")\n",
    "print(\"Spark version:\", spark.version)\n"
   ]
  },
  {
   "cell_type": "code",
   "execution_count": 2,
   "id": "aab31e2c",
   "metadata": {},
   "outputs": [
    {
     "name": "stderr",
     "output_type": "stream",
     "text": [
      "                                                                                "
     ]
    },
    {
     "name": "stdout",
     "output_type": "stream",
     "text": [
      "+---+-----+\n",
      "| id|value|\n",
      "+---+-----+\n",
      "|  1| test|\n",
      "|  2|spark|\n",
      "+---+-----+\n",
      "\n"
     ]
    }
   ],
   "source": [
    "df = spark.createDataFrame([(1, \"test\"), (2, \"spark\")], [\"id\", \"value\"])\n",
    "df.show()"
   ]
  },
  {
   "cell_type": "code",
   "execution_count": null,
   "id": "9bd09c02-cdf0-4dd1-b511-d616eeb682f3",
   "metadata": {},
   "outputs": [],
   "source": [
    "df.write.parquet(\"hdfs:///\")"
   ]
  },
  {
   "cell_type": "code",
   "execution_count": 4,
   "id": "e83b8e9c-2e8a-4dd7-bf57-5028de1ac05f",
   "metadata": {},
   "outputs": [
    {
     "name": "stderr",
     "output_type": "stream",
     "text": [
      "                                                                                "
     ]
    },
    {
     "name": "stdout",
     "output_type": "stream",
     "text": [
      "+---+--------------------+--------------------+\n",
      "|_c0|                 _c1|                 _c2|\n",
      "+---+--------------------+--------------------+\n",
      "|  2|Stuning even for ...|This sound track ...|\n",
      "|  2|The best soundtra...|I'm reading a lot...|\n",
      "|  2|            Amazing!|\"This soundtrack ...|\n",
      "|  2|Excellent Soundtrack|I truly like this...|\n",
      "|  2|Remember, Pull Yo...|If you've played ...|\n",
      "+---+--------------------+--------------------+\n",
      "only showing top 5 rows\n",
      "\n"
     ]
    }
   ],
   "source": [
    "booksdata=spark.read.csv(\"hdfs:///amazon_data.csv\", inferSchema=True)\n",
    "booksdata.show(5)"
   ]
  },
  {
   "cell_type": "code",
   "execution_count": 6,
   "id": "90c842ab-3f66-4e0b-aa5c-429b0d59872b",
   "metadata": {},
   "outputs": [
    {
     "data": {
      "text/plain": [
       "pyspark.sql.dataframe.DataFrame"
      ]
     },
     "execution_count": 6,
     "metadata": {},
     "output_type": "execute_result"
    }
   ],
   "source": [
    "type(booksdata)"
   ]
  },
  {
   "cell_type": "code",
   "execution_count": 7,
   "id": "9a17c5b9-1ea2-40ac-8d1e-ae7c0506f716",
   "metadata": {},
   "outputs": [
    {
     "name": "stderr",
     "output_type": "stream",
     "text": [
      "                                                                                "
     ]
    },
    {
     "data": {
      "text/plain": [
       "3600000"
      ]
     },
     "execution_count": 7,
     "metadata": {},
     "output_type": "execute_result"
    }
   ],
   "source": [
    "booksdata.count()"
   ]
  },
  {
   "cell_type": "code",
   "execution_count": 8,
   "id": "d84ca810-a36c-4445-8792-2d1eb91bae26",
   "metadata": {},
   "outputs": [
    {
     "name": "stdout",
     "output_type": "stream",
     "text": [
      "12\n"
     ]
    }
   ],
   "source": [
    "print(booksdata.rdd.getNumPartitions())"
   ]
  },
  {
   "cell_type": "code",
   "execution_count": 4,
   "id": "369bef5c-a0a0-4f31-9bdf-23b0360e8af8",
   "metadata": {},
   "outputs": [],
   "source": [
    "spark.stop()"
   ]
  },
  {
   "cell_type": "code",
   "execution_count": null,
   "id": "78b7a774-40b5-4381-8a62-44bb058aa4c2",
   "metadata": {},
   "outputs": [],
   "source": []
  }
 ],
 "metadata": {
  "kernelspec": {
   "display_name": "Python 3 (ipykernel)",
   "language": "python",
   "name": "python3"
  },
  "language_info": {
   "codemirror_mode": {
    "name": "ipython",
    "version": 3
   },
   "file_extension": ".py",
   "mimetype": "text/x-python",
   "name": "python",
   "nbconvert_exporter": "python",
   "pygments_lexer": "ipython3",
   "version": "3.12.9"
  }
 },
 "nbformat": 4,
 "nbformat_minor": 5
}
